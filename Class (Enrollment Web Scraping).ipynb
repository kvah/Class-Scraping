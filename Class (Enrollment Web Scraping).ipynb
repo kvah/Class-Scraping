{
 "cells": [
  {
   "cell_type": "code",
   "execution_count": 44,
   "metadata": {},
   "outputs": [],
   "source": [
    "from urllib.request import urlopen as ureq\n",
    "from bs4 import BeautifulSoup as bs\n",
    "import pandas as pd\n",
    "import re"
   ]
  },
  {
   "cell_type": "code",
   "execution_count": 158,
   "metadata": {},
   "outputs": [],
   "source": [
    "def enrollment(url):\n",
    "    uClient = ureq(url)\n",
    "    class_html = uClient.read()\n",
    "    uClient.close()\n",
    "    soup = bs(class_html, \"lxml\")\n",
    "    str_soup = str(soup)\n",
    "    cleaned = re.findall(r'\"enrolledCount\":.*\"openReserved\":\\d+', str_soup)[0]\n",
    "    enrolled = re.findall(r'enrolledCount\":\\d+', cleaned)[0].replace(\"\\\"\", \"\")\n",
    "    seats = re.findall(r'maxEnroll\":\\d+', cleaned)[0].replace(\"\\\"\", \"\")\n",
    "    reserved = re.findall(r'openReserved\":\\d+', cleaned)[0].replace(\"\\\"\", \"\")\n",
    "    waitlisted = re.findall(r'waitlistedCount\":\\d+', cleaned)[0].replace(\"\\\"\", \"\")\n",
    "    enrolled_n = re.findall(r'\\d+', enrolled)[0]\n",
    "    seats_n = re.findall(r'\\d+', seats)[0]\n",
    "    waitlisted_n = re.findall(r'\\d+', waitlisted)[0]\n",
    "    reserved_n = re.findall(r'\\d+', reserved)[0]\n",
    "    return [enrolled_n, seats_n, waitlisted_n, reserved_n]"
   ]
  },
  {
   "cell_type": "code",
   "execution_count": 166,
   "metadata": {},
   "outputs": [],
   "source": [
    "#input class url's here#\n",
    "philo121 = \"https://classes.berkeley.edu/content/2019-spring-philos-121-001-lec-001\"\n",
    "stat140 = \"https://classes.berkeley.edu/content/2019-spring-stat-140-001-lec-001\"\n",
    "socio3ac = \"https://classes.berkeley.edu/content/2019-spring-sociol-3ac-001-lec-001\"\n",
    "math53 = \"https://classes.berkeley.edu/content/2019-spring-math-53-001-lec-001\"\n",
    "cs195 = \"https://classes.berkeley.edu/content/2019-spring-compsci-195-001-lec-001\"\n",
    "cs188 = \"https://classes.berkeley.edu/content/2019-spring-compsci-188-001-lec-001\"\n",
    "classes = [philo121, stat140, socio3ac, math53, cs195, cs188] #replace with your classes"
   ]
  },
  {
   "cell_type": "code",
   "execution_count": 176,
   "metadata": {},
   "outputs": [],
   "source": [
    "data = [enrollment(i) for i in classes]"
   ]
  },
  {
   "cell_type": "code",
   "execution_count": 177,
   "metadata": {},
   "outputs": [
    {
     "data": {
      "text/html": [
       "<div>\n",
       "<style scoped>\n",
       "    .dataframe tbody tr th:only-of-type {\n",
       "        vertical-align: middle;\n",
       "    }\n",
       "\n",
       "    .dataframe tbody tr th {\n",
       "        vertical-align: top;\n",
       "    }\n",
       "\n",
       "    .dataframe thead th {\n",
       "        text-align: right;\n",
       "    }\n",
       "</style>\n",
       "<table border=\"1\" class=\"dataframe\">\n",
       "  <thead>\n",
       "    <tr style=\"text-align: right;\">\n",
       "      <th></th>\n",
       "      <th>Enrolled</th>\n",
       "      <th>Open</th>\n",
       "      <th>Waitlisted</th>\n",
       "      <th>Reserved</th>\n",
       "    </tr>\n",
       "  </thead>\n",
       "  <tbody>\n",
       "    <tr>\n",
       "      <th>Compsci 188</th>\n",
       "      <td>126</td>\n",
       "      <td>740</td>\n",
       "      <td>152</td>\n",
       "      <td>614</td>\n",
       "    </tr>\n",
       "    <tr>\n",
       "      <th>Compsci 195</th>\n",
       "      <td>108</td>\n",
       "      <td>230</td>\n",
       "      <td>47</td>\n",
       "      <td>122</td>\n",
       "    </tr>\n",
       "    <tr>\n",
       "      <th>Math 53</th>\n",
       "      <td>52</td>\n",
       "      <td>419</td>\n",
       "      <td>0</td>\n",
       "      <td>0</td>\n",
       "    </tr>\n",
       "    <tr>\n",
       "      <th>Philosophy 121</th>\n",
       "      <td>8</td>\n",
       "      <td>45</td>\n",
       "      <td>14</td>\n",
       "      <td>37</td>\n",
       "    </tr>\n",
       "    <tr>\n",
       "      <th>Sociology 3AC</th>\n",
       "      <td>83</td>\n",
       "      <td>195</td>\n",
       "      <td>12</td>\n",
       "      <td>112</td>\n",
       "    </tr>\n",
       "    <tr>\n",
       "      <th>Stat 140</th>\n",
       "      <td>88</td>\n",
       "      <td>240</td>\n",
       "      <td>0</td>\n",
       "      <td>0</td>\n",
       "    </tr>\n",
       "  </tbody>\n",
       "</table>\n",
       "</div>"
      ],
      "text/plain": [
       "               Enrolled Open Waitlisted Reserved\n",
       "Compsci 188         126  740        152      614\n",
       "Compsci 195         108  230         47      122\n",
       "Math 53              52  419          0        0\n",
       "Philosophy 121        8   45         14       37\n",
       "Sociology 3AC        83  195         12      112\n",
       "Stat 140             88  240          0        0"
      ]
     },
     "execution_count": 177,
     "metadata": {},
     "output_type": "execute_result"
    }
   ],
   "source": [
    "index = [\"Philosophy 121\", \"Stat 140\", \"Sociology 3AC\", \"Math 53\", \"Compsci 195\", \"Compsci 188\"] #replace with your classes\n",
    "pd.DataFrame(data, \n",
    "             index=index,\n",
    "             columns=['Enrolled', 'Open', 'Waitlisted', 'Reserved']).sort_index()"
   ]
  }
 ],
 "metadata": {
  "kernelspec": {
   "display_name": "Python 3",
   "language": "python",
   "name": "python3"
  },
  "language_info": {
   "codemirror_mode": {
    "name": "ipython",
    "version": 3
   },
   "file_extension": ".py",
   "mimetype": "text/x-python",
   "name": "python",
   "nbconvert_exporter": "python",
   "pygments_lexer": "ipython3",
   "version": "3.6.4"
  }
 },
 "nbformat": 4,
 "nbformat_minor": 2
}
